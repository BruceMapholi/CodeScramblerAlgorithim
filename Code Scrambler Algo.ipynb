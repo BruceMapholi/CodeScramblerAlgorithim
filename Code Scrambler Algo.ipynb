{
 "cells": [
  {
   "cell_type": "code",
   "execution_count": null,
   "metadata": {},
   "outputs": [],
   "source": [
    "def findEncryptedPassword(password):\n",
    "    # counting the occurences of each character in password\n",
    "    char_count = {}\n",
    "    for char in password:\n",
    "        char_count[char] = char_count.get(char, 0) + 1\n",
    "    \n",
    "    # create lexicographically smallest palindrome\n",
    "    encrypted_password = ''\n",
    "    for char in sorted(char_count):\n",
    "        count = char_count[char]\n",
    "        encrypted_password += char*(count // 2)\n",
    "        \n",
    "    middle_char = ''\n",
    "    for char in sorted(char_count):\n",
    "        count = char_count[char]\n",
    "        if count % 2 != 0:\n",
    "            middle_char = char\n",
    "            break\n",
    "    \n",
    "    return encrypted_password + middle_char+ encrypted_password[::-1] \n",
    "    \n",
    "password = input(\"Enter your password: \")\n",
    "print(findEncryptedPassword(password))"
   ]
  }
 ],
 "metadata": {
  "language_info": {
   "name": "python"
  },
  "orig_nbformat": 4
 },
 "nbformat": 4,
 "nbformat_minor": 2
}
